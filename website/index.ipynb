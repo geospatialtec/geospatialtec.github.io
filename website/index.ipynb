{
  "cells": [
    {
      "cell_type": "markdown",
      "metadata": {},
      "source": [
        "---\n",
        "title: \"Geospatial Technology Associates\"\n",
        "---\n",
        "\n",
        "Welcome\n",
        "\n",
        "Please visit our website: <https://www.geospatialtec.com/>"
      ]
    }
  ],
  "metadata": {
    "kernelspec": {
      "display_name": "Python 3 (ipykernel)",
      "language": "python",
      "name": "python3",
      "path": "/usr/local/share/jupyter/kernels/python3"
    }
  },
  "nbformat": 4,
  "nbformat_minor": 4
}
